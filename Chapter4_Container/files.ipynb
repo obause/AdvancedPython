{
 "cells": [
  {
   "cell_type": "code",
   "execution_count": 1,
   "metadata": {},
   "outputs": [],
   "source": [
    "import os\n",
    "from pathlib import Path"
   ]
  },
  {
   "cell_type": "markdown",
   "metadata": {},
   "source": [
    "# Filepaths"
   ]
  },
  {
   "cell_type": "code",
   "execution_count": 3,
   "metadata": {},
   "outputs": [
    {
     "name": "stdout",
     "output_type": "stream",
     "text": [
      "<class 'str'>\n",
      "C:\\Users\\Ole\\OneDrive\\_Coding\\UdemyPythonPro\\Chapter4_Container\\user_data.txt\n"
     ]
    }
   ],
   "source": [
    "project_path = os.path.abspath(\n",
    "    \"C:/Users/Ole/OneDrive/_Coding/UdemyPythonPro/\"\n",
    ")\n",
    "file_path = os.path.join(\n",
    "    project_path,\n",
    "    \"Chapter4_Container\",\n",
    "    \"user_data.txt\"\n",
    ")\n",
    "\n",
    "print(type(file_path))\n",
    "print(file_path)"
   ]
  },
  {
   "cell_type": "code",
   "execution_count": 12,
   "metadata": {},
   "outputs": [
    {
     "name": "stdout",
     "output_type": "stream",
     "text": [
      "e:\\Nextcloud\\Uni\\Kurse\\AdvancedPython\\AdvancedPython\n"
     ]
    }
   ],
   "source": [
    "project_path = os.path.abspath(\n",
    "    os.path.pardir,\n",
    ")\n",
    "print(project_path)\n",
    "file_path = os.path.join(\n",
    "    project_path,\n",
    "    \"Chapter4_Container\",\n",
    "    \"user_data.txt\"\n",
    ")"
   ]
  },
  {
   "cell_type": "code",
   "execution_count": 7,
   "metadata": {},
   "outputs": [
    {
     "name": "stdout",
     "output_type": "stream",
     "text": [
      "['absolute', 'anchor', 'chmod', 'cwd', 'drive', 'exists', 'expanduser', 'glob', 'group', 'home', 'iterdir', 'joinpath', 'lchmod', 'lstat', 'match', 'mkdir', 'name', 'open', 'owner', 'parent', 'parents', 'parts', 'readlink', 'rename', 'replace', 'resolve', 'rglob', 'rmdir', 'root', 'samefile', 'stat', 'stem', 'suffix', 'suffixes', 'touch', 'unlink']\n",
      "<class 'pathlib.WindowsPath'>\n",
      "e:\\Nextcloud\\Uni\\Kurse\\AdvancedPython\\AdvancedPython\n"
     ]
    }
   ],
   "source": [
    "p = Path(project_path)\n",
    "\n",
    "print([d for d in dir(p) if '_' not in d])\n",
    "print(type(p))\n",
    "print(p)"
   ]
  },
  {
   "cell_type": "code",
   "execution_count": 8,
   "metadata": {},
   "outputs": [
    {
     "name": "stdout",
     "output_type": "stream",
     "text": [
      "e:\\Nextcloud\\Uni\\Kurse\\AdvancedPython\n",
      "e:\\Nextcloud\\Uni\\Kurse\\AdvancedPython\\AdvancedPython\n",
      "True\n",
      "False\n"
     ]
    }
   ],
   "source": [
    "print(p.parent)\n",
    "print(p.absolute())\n",
    "print(p.is_dir())\n",
    "print(p.is_file())"
   ]
  },
  {
   "cell_type": "markdown",
   "metadata": {},
   "source": [
    "# Files"
   ]
  },
  {
   "cell_type": "markdown",
   "metadata": {},
   "source": [
    "Context managers provide __enter__() and __exit__() methods that are invoked on entry to and exit from the body of the with statement."
   ]
  },
  {
   "cell_type": "code",
   "execution_count": 13,
   "metadata": {},
   "outputs": [
    {
     "name": "stdout",
     "output_type": "stream",
     "text": [
      "False\n",
      "True\n",
      "<_io.TextIOWrapper name='e:\\\\Nextcloud\\\\Uni\\\\Kurse\\\\AdvancedPython\\\\AdvancedPython\\\\Chapter4_Container\\\\user_data.txt' mode='r' encoding='cp1252'> <class '_io.TextIOWrapper'>\n",
      "['Hello my name is Ole.\\n', 'Nice to meet you.\\n', 'I am currently 25 years old.\\n']\n",
      "['Hello my name is Ole.', 'Nice to meet you.', 'I am currently 25 years old.']\n"
     ]
    }
   ],
   "source": [
    "with open(file_path, \"r\") as f:\n",
    "    content = f.readlines()\n",
    "    print(f.closed)\n",
    "\n",
    "print(f.closed)\n",
    "print(f, type(f))\n",
    "\n",
    "print(content)\n",
    "for idx, line in enumerate(content):\n",
    "    content[idx] = line.replace(\"\\n\", \"\")\n",
    "print(content)"
   ]
  },
  {
   "cell_type": "code",
   "execution_count": null,
   "metadata": {},
   "outputs": [],
   "source": []
  }
 ],
 "metadata": {
  "file_extension": ".py",
  "kernelspec": {
   "display_name": "Python 3.10.4 ('advancedPython')",
   "language": "python",
   "name": "python3"
  },
  "language_info": {
   "codemirror_mode": {
    "name": "ipython",
    "version": 3
   },
   "file_extension": ".py",
   "mimetype": "text/x-python",
   "name": "python",
   "nbconvert_exporter": "python",
   "pygments_lexer": "ipython3",
   "version": "3.10.4"
  },
  "mimetype": "text/x-python",
  "name": "python",
  "npconvert_exporter": "python",
  "orig_nbformat": 2,
  "pygments_lexer": "ipython3",
  "version": 3,
  "vscode": {
   "interpreter": {
    "hash": "f7d2556a746455b9fa413583c01f8b35be58667110831f6876b0a85e9c63a884"
   }
  }
 },
 "nbformat": 4,
 "nbformat_minor": 2
}
