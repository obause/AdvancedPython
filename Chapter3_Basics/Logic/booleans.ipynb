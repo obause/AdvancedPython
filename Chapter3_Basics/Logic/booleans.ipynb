{
 "cells": [
  {
   "cell_type": "code",
   "execution_count": 1,
   "metadata": {},
   "outputs": [],
   "source": [
    "import sys"
   ]
  },
  {
   "cell_type": "markdown",
   "metadata": {},
   "source": [
    "# Booleans"
   ]
  },
  {
   "cell_type": "code",
   "execution_count": 4,
   "metadata": {},
   "outputs": [
    {
     "name": "stdout",
     "output_type": "stream",
     "text": [
      "28\n"
     ]
    }
   ],
   "source": [
    "bool_value = True\n",
    "print(sys.getsizeof(bool_value))"
   ]
  },
  {
   "cell_type": "code",
   "execution_count": 6,
   "metadata": {},
   "outputs": [
    {
     "name": "stdout",
     "output_type": "stream",
     "text": [
      "True\n"
     ]
    }
   ],
   "source": [
    "print(issubclass(bool, int)) # Bool erbt von int"
   ]
  },
  {
   "cell_type": "code",
   "execution_count": 8,
   "metadata": {},
   "outputs": [
    {
     "name": "stdout",
     "output_type": "stream",
     "text": [
      "True\n",
      "True\n",
      "False\n",
      "False\n"
     ]
    }
   ],
   "source": [
    "print(isinstance(True, int)) # True ist eine Instanz von int\n",
    "print(isinstance(False, int)) # False ist eine Instanz von int\n",
    "print(isinstance(1, bool)) # 1 ist keine Instanz von bool\n",
    "print(isinstance(0, bool)) # 0 ist keine Instanz von bool"
   ]
  },
  {
   "cell_type": "markdown",
   "metadata": {},
   "source": [
    "## Is vs. Equal\n",
    "\n",
    "'is' and 'is not': memory (address) equality  \n",
    "'==' and '!=': value equality  \n",
    "\n",
    "Is: Identity operator (memory adresses)  \n",
    "Value Equality: Operator to compare object values  "
   ]
  },
  {
   "cell_type": "code",
   "execution_count": 10,
   "metadata": {},
   "outputs": [
    {
     "name": "stdout",
     "output_type": "stream",
     "text": [
      "True\n",
      "False\n"
     ]
    }
   ],
   "source": [
    "bool_value = True\n",
    "int_value = 1\n",
    "print(bool_value == int_value) # Überprüfung auf Gleichheit\n",
    "print(bool_value is int_value) # Überprüfung auf Identität"
   ]
  },
  {
   "cell_type": "code",
   "execution_count": 11,
   "metadata": {},
   "outputs": [
    {
     "name": "stdout",
     "output_type": "stream",
     "text": [
      "True\n"
     ]
    }
   ],
   "source": [
    "bool_value2 = True\n",
    "print(bool_value == bool_value2) # Überprüfung auf Gleichheit"
   ]
  },
  {
   "cell_type": "markdown",
   "metadata": {},
   "source": [
    "## Boolean Evaluation\n",
    "\n",
    "Every object of a built-in type has a Truth Value.  \n",
    "An instance is True if it is not: None, False, 0, or empty.  \n"
   ]
  },
  {
   "cell_type": "code",
   "execution_count": 13,
   "metadata": {},
   "outputs": [
    {
     "name": "stdout",
     "output_type": "stream",
     "text": [
      "True\n",
      "False\n",
      "False\n",
      "True\n",
      "False\n",
      "False\n"
     ]
    }
   ],
   "source": [
    "value1 = 1\n",
    "value2 = None\n",
    "value3 = False\n",
    "value4 = [\"a\"]\n",
    "value5 = []\n",
    "value6 = 0\n",
    "print(bool(value1)) # True\n",
    "print(bool(value2)) # False\n",
    "print(bool(value3)) # False\n",
    "print(bool(value4)) # True\n",
    "print(bool(value5)) # False\n",
    "print(bool(value6)) # False"
   ]
  },
  {
   "cell_type": "markdown",
   "metadata": {},
   "source": [
    "## Boolean Comparison\n",
    "\n",
    "Boolean operators: and, or, not  \n",
    "Comparison operators: <, >, <=, >=, ==, !="
   ]
  },
  {
   "cell_type": "markdown",
   "metadata": {},
   "source": [
    "##  Operator order\n",
    "\n",
    "1.) () - Paranthesis  \n",
    "2.) Comparison operators  \n",
    "3.) not  \n",
    "4.) and  \n",
    "5.) or  "
   ]
  },
  {
   "cell_type": "code",
   "execution_count": 14,
   "metadata": {},
   "outputs": [
    {
     "name": "stdout",
     "output_type": "stream",
     "text": [
      "True\n",
      "True\n"
     ]
    }
   ],
   "source": [
    "a = True\n",
    "b = False\n",
    "c = True\n",
    "check = a > b and c == a or not a and c\n",
    "print(check)\n",
    "check_better = (a > b) and ((c == a) or (not a)) and c\n",
    "print(check_better)"
   ]
  },
  {
   "cell_type": "markdown",
   "metadata": {},
   "source": [
    "## Boolean Shortcuts"
   ]
  },
  {
   "cell_type": "code",
   "execution_count": 17,
   "metadata": {},
   "outputs": [],
   "source": [
    "a = False\n",
    "b = True"
   ]
  },
  {
   "cell_type": "code",
   "execution_count": 18,
   "metadata": {},
   "outputs": [],
   "source": [
    "def func_a(a):\n",
    "    print(\"Call func_a\")\n",
    "    return a\n",
    "\n",
    "def func_b(b):\n",
    "    print(\"Call func_b\")\n",
    "    return b"
   ]
  },
  {
   "cell_type": "code",
   "execution_count": 19,
   "metadata": {},
   "outputs": [
    {
     "name": "stdout",
     "output_type": "stream",
     "text": [
      "Call func_a\n"
     ]
    }
   ],
   "source": [
    "if func_a(a) and func_b(b):\n",
    "    print(\"func_a(a) and func_b(b) -> True\")"
   ]
  },
  {
   "cell_type": "code",
   "execution_count": 20,
   "metadata": {},
   "outputs": [
    {
     "name": "stdout",
     "output_type": "stream",
     "text": [
      "Call func_b\n",
      "Call func_a\n"
     ]
    }
   ],
   "source": [
    "if func_b(b) and func_a(a):\n",
    "    print(\"func_a(a) and func_b(b) -> True\")"
   ]
  },
  {
   "cell_type": "code",
   "execution_count": null,
   "metadata": {},
   "outputs": [],
   "source": []
  }
 ],
 "metadata": {
  "file_extension": ".py",
  "kernelspec": {
   "display_name": "Python 3.10.4 ('advancedPython')",
   "language": "python",
   "name": "python3"
  },
  "language_info": {
   "codemirror_mode": {
    "name": "ipython",
    "version": 3
   },
   "file_extension": ".py",
   "mimetype": "text/x-python",
   "name": "python",
   "nbconvert_exporter": "python",
   "pygments_lexer": "ipython3",
   "version": "3.10.4"
  },
  "mimetype": "text/x-python",
  "name": "python",
  "npconvert_exporter": "python",
  "orig_nbformat": 2,
  "pygments_lexer": "ipython3",
  "version": 3,
  "vscode": {
   "interpreter": {
    "hash": "f7d2556a746455b9fa413583c01f8b35be58667110831f6876b0a85e9c63a884"
   }
  }
 },
 "nbformat": 4,
 "nbformat_minor": 2
}
