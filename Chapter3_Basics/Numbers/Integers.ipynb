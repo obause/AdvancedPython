{
 "cells": [
  {
   "cell_type": "code",
   "execution_count": 1,
   "metadata": {},
   "outputs": [],
   "source": [
    "import sys\n",
    "import math"
   ]
  },
  {
   "cell_type": "markdown",
   "metadata": {},
   "source": [
    "# Integers"
   ]
  },
  {
   "cell_type": "markdown",
   "metadata": {},
   "source": [
    "C/C++/Java: int 32bit/4Byte  \n",
    "Python: int object uses a variable number of bits  "
   ]
  },
  {
   "cell_type": "code",
   "execution_count": 2,
   "metadata": {},
   "outputs": [
    {
     "name": "stdout",
     "output_type": "stream",
     "text": [
      "Integer size: 28\n",
      "Integer size: 24\n",
      "Integer size: 60\n"
     ]
    }
   ],
   "source": [
    "int_value = 42\n",
    "print(f\"Integer size: {sys.getsizeof(int_value)}\")\n",
    "int_value2 = 0\n",
    "print(f\"Integer size: {sys.getsizeof(int_value2)}\")\n",
    "int_value3 = 2 ** 256\n",
    "print(f\"Integer size: {sys.getsizeof(int_value3)}\")\n",
    "\n"
   ]
  },
  {
   "cell_type": "markdown",
   "metadata": {},
   "source": [
    "## Arithmetic Opretions\n",
    "\n",
    "(int / int) => float"
   ]
  },
  {
   "cell_type": "code",
   "execution_count": 7,
   "metadata": {},
   "outputs": [
    {
     "name": "stdout",
     "output_type": "stream",
     "text": [
      "Result: 50, Type: <class 'int'>\n",
      "Result: 2.0, Type: <class 'float'>\n",
      "Result: 2, Type: <class 'int'>\n"
     ]
    }
   ],
   "source": [
    "result = 10 * 5\n",
    "print(f\"Result: {result}, Type: {type(result)}\")\n",
    "\n",
    "result = 10 / 5\n",
    "print(f\"Result: {result}, Type: {type(result)}\")\n",
    "\n",
    "result = 10 // 5 # Integer division\n",
    "print(f\"Result: {result}, Type: {type(result)}\")"
   ]
  },
  {
   "cell_type": "markdown",
   "metadata": {},
   "source": [
    "### Float -> Int"
   ]
  },
  {
   "cell_type": "code",
   "execution_count": 8,
   "metadata": {},
   "outputs": [
    {
     "name": "stdout",
     "output_type": "stream",
     "text": [
      "3.14\n",
      "3\n"
     ]
    }
   ],
   "source": [
    "float_value = 3.14\n",
    "print(float_value)\n",
    "int_value = int(float_value)\n",
    "print(int_value)"
   ]
  },
  {
   "cell_type": "markdown",
   "metadata": {},
   "source": [
    "### (To-) Int Rounding\n",
    "\n",
    "floor (abrunden)  \n",
    "ceil (aufrunden)  "
   ]
  },
  {
   "cell_type": "code",
   "execution_count": 10,
   "metadata": {},
   "outputs": [
    {
     "name": "stdout",
     "output_type": "stream",
     "text": [
      "3.14\n",
      "3\n",
      "4\n"
     ]
    }
   ],
   "source": [
    "float_value = 3.14\n",
    "print(float_value)\n",
    "int_value = math.floor(float_value)\n",
    "print(int_value)\n",
    "int_value2 = math.ceil(float_value)\n",
    "print(int_value2)"
   ]
  },
  {
   "cell_type": "code",
   "execution_count": 11,
   "metadata": {},
   "outputs": [
    {
     "name": "stdout",
     "output_type": "stream",
     "text": [
      "-3.14\n",
      "-4\n",
      "-3\n"
     ]
    }
   ],
   "source": [
    "float_value = -3.14\n",
    "print(float_value)\n",
    "int_value = math.floor(float_value)\n",
    "print(int_value)\n",
    "int_value2 = math.ceil(float_value)\n",
    "print(int_value2)"
   ]
  },
  {
   "cell_type": "markdown",
   "metadata": {},
   "source": [
    "## Integer Bases\n",
    "\n",
    "decimal: base 10  \n",
    "binary: base 2  \n",
    "hexa: base 16  "
   ]
  },
  {
   "cell_type": "code",
   "execution_count": 15,
   "metadata": {},
   "outputs": [
    {
     "name": "stdout",
     "output_type": "stream",
     "text": [
      "Value: 42, Type: <class 'int'>\n",
      "Value: 42, Type: <class 'int'>\n",
      "Value: 42, Type: <class 'int'>\n"
     ]
    }
   ],
   "source": [
    "decimal_number = int(\"42\", base=10)\n",
    "print(f\"Value: {decimal_number}, Type: {type(decimal_number)}\")\n",
    "hex_number = int(\"2A\", base=16)\n",
    "print(f\"Value: {hex_number}, Type: {type(hex_number)}\")\n",
    "binary_number = int(\"101010\", base=2)\n",
    "print(f\"Value: {binary_number}, Type: {type(binary_number)}\")"
   ]
  },
  {
   "cell_type": "code",
   "execution_count": 16,
   "metadata": {},
   "outputs": [
    {
     "name": "stdout",
     "output_type": "stream",
     "text": [
      "Value: 42, Type: <class 'int'>\n"
     ]
    }
   ],
   "source": [
    "binary_number2 = 0b101010\n",
    "print(f\"Value: {binary_number2}, Type: {type(binary_number2)}\")"
   ]
  },
  {
   "cell_type": "code",
   "execution_count": null,
   "metadata": {},
   "outputs": [],
   "source": []
  }
 ],
 "metadata": {
  "kernelspec": {
   "display_name": "Python 3.10.4 ('advancedPython')",
   "language": "python",
   "name": "python3"
  },
  "language_info": {
   "codemirror_mode": {
    "name": "ipython",
    "version": 3
   },
   "file_extension": ".py",
   "mimetype": "text/x-python",
   "name": "python",
   "nbconvert_exporter": "python",
   "pygments_lexer": "ipython3",
   "version": "3.10.4"
  },
  "orig_nbformat": 4,
  "vscode": {
   "interpreter": {
    "hash": "f7d2556a746455b9fa413583c01f8b35be58667110831f6876b0a85e9c63a884"
   }
  }
 },
 "nbformat": 4,
 "nbformat_minor": 2
}
