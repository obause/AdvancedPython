{
 "cells": [
  {
   "cell_type": "markdown",
   "metadata": {},
   "source": [
    "## Imports"
   ]
  },
  {
   "cell_type": "code",
   "execution_count": 1,
   "metadata": {},
   "outputs": [],
   "source": [
    "import sys\n",
    "import math"
   ]
  },
  {
   "cell_type": "markdown",
   "metadata": {},
   "source": [
    "# Floats"
   ]
  },
  {
   "cell_type": "markdown",
   "metadata": {},
   "source": [
    "C, C++, Java etc.: Float (32bits/4Byte), Double (64bits=8Byte)  \n",
    "Python: Float (64bits=8Byte)  \n",
    "\n",
    "sign: 1bit  \n",
    "exponent: 11bits  \n",
    "significant bits: 52bits  \n"
   ]
  },
  {
   "cell_type": "code",
   "execution_count": 10,
   "metadata": {},
   "outputs": [
    {
     "name": "stdout",
     "output_type": "stream",
     "text": [
      "1.23e-10\n"
     ]
    }
   ],
   "source": [
    "float_value = 0.000000000123\n",
    "print(float_value)"
   ]
  },
  {
   "cell_type": "code",
   "execution_count": 7,
   "metadata": {},
   "outputs": [
    {
     "name": "stdout",
     "output_type": "stream",
     "text": [
      "0.00000000123400000000000008140498\n"
     ]
    }
   ],
   "source": [
    "def print_float(value):\n",
    "    print(\"{:.32f}\".format(value))\n",
    "print_float(float_value)"
   ]
  },
  {
   "cell_type": "markdown",
   "metadata": {},
   "source": [
    "## Float equality"
   ]
  },
  {
   "cell_type": "code",
   "execution_count": 12,
   "metadata": {},
   "outputs": [
    {
     "name": "stdout",
     "output_type": "stream",
     "text": [
      "0.01000000000000000020816681711722\n",
      "0.30000000000000004440892098500626\n",
      "0.29999999999999998889776975374843\n"
     ]
    }
   ],
   "source": [
    "fraction_value = 1/100\n",
    "print_float(fraction_value)\n",
    "fraction_value2 = 1/10 + 1/10 + 1/10 # 0.3\n",
    "print_float(fraction_value2)\n",
    "fraction_value3 = 0.3\n",
    "print_float(fraction_value3)"
   ]
  },
  {
   "cell_type": "code",
   "execution_count": 13,
   "metadata": {},
   "outputs": [
    {
     "name": "stdout",
     "output_type": "stream",
     "text": [
      "False\n"
     ]
    }
   ],
   "source": [
    "print(fraction_value2 == fraction_value3)"
   ]
  },
  {
   "cell_type": "code",
   "execution_count": 17,
   "metadata": {},
   "outputs": [
    {
     "name": "stdout",
     "output_type": "stream",
     "text": [
      "True\n"
     ]
    }
   ],
   "source": [
    "def float_is_equal(a, b):\n",
    "    epsilon = 1e-15\n",
    "    diff = math.fabs(a - b)\n",
    "    return diff < epsilon\n",
    "print(float_is_equal(fraction_value2, fraction_value3))"
   ]
  },
  {
   "cell_type": "code",
   "execution_count": 19,
   "metadata": {},
   "outputs": [
    {
     "name": "stdout",
     "output_type": "stream",
     "text": [
      "True\n"
     ]
    }
   ],
   "source": [
    "print(math.isclose(fraction_value2, fraction_value3)) # Default: rel_tol=1e-09, abs_tol=0.0"
   ]
  },
  {
   "cell_type": "markdown",
   "metadata": {},
   "source": [
    "## Float Rounding"
   ]
  },
  {
   "cell_type": "code",
   "execution_count": 26,
   "metadata": {},
   "outputs": [
    {
     "name": "stdout",
     "output_type": "stream",
     "text": [
      "42.4242424242\n",
      "42.42424242420000268793955910950899\n",
      "42.4242\n",
      "42.42419999999999902229319559410214\n"
     ]
    }
   ],
   "source": [
    "float_value = 42.4242424242\n",
    "print(float_value)\n",
    "print_float(float_value)\n",
    "float_value_rounded = round(float_value, 4)\n",
    "print(float_value_rounded)\n",
    "print_float(float_value_rounded)"
   ]
  },
  {
   "cell_type": "code",
   "execution_count": null,
   "metadata": {},
   "outputs": [],
   "source": []
  }
 ],
 "metadata": {
  "kernelspec": {
   "display_name": "Python 3.10.4 ('advancedPython')",
   "language": "python",
   "name": "python3"
  },
  "language_info": {
   "codemirror_mode": {
    "name": "ipython",
    "version": 3
   },
   "file_extension": ".py",
   "mimetype": "text/x-python",
   "name": "python",
   "nbconvert_exporter": "python",
   "pygments_lexer": "ipython3",
   "version": "3.10.4"
  },
  "orig_nbformat": 4,
  "vscode": {
   "interpreter": {
    "hash": "f7d2556a746455b9fa413583c01f8b35be58667110831f6876b0a85e9c63a884"
   }
  }
 },
 "nbformat": 4,
 "nbformat_minor": 2
}
