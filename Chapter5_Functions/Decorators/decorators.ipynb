{
 "cells": [
  {
   "cell_type": "code",
   "execution_count": 1,
   "metadata": {},
   "outputs": [],
   "source": [
    "import time\n",
    "from functools import wraps"
   ]
  },
  {
   "cell_type": "markdown",
   "metadata": {},
   "source": [
    "### Closure\n",
    "\n",
    "A closure is an inner function that has access to variables in the local scope of the outer function"
   ]
  },
  {
   "cell_type": "code",
   "execution_count": 2,
   "metadata": {},
   "outputs": [],
   "source": [
    "def outer_fn(message):\n",
    "    outer_message = \"Outer: \" + message\n",
    "    current_time = time.time()\n",
    "\n",
    "    def inner_fn():\n",
    "        print(\"Inner: '\" + outer_message + \"'\")\n",
    "        print(\"Current time: \", current_time)\n",
    "    return inner_fn()"
   ]
  },
  {
   "cell_type": "code",
   "execution_count": 3,
   "metadata": {},
   "outputs": [
    {
     "name": "stdout",
     "output_type": "stream",
     "text": [
      "Inner: 'Outer: Hello World!'\n",
      "Current time:  1668363434.9147992\n"
     ]
    }
   ],
   "source": [
    "outer_fn(\"Hello World!\")"
   ]
  },
  {
   "cell_type": "markdown",
   "metadata": {},
   "source": [
    "### Decorators\n",
    "\n",
    "- wraps a function by another function\n",
    "- takes a function as an argument, returns a closure\n",
    "- the clousure runs the previous passed in function with the *args and **kwargs arguments"
   ]
  },
  {
   "cell_type": "code",
   "execution_count": 4,
   "metadata": {},
   "outputs": [],
   "source": [
    "def outer_fn(fn):\n",
    "    def inner_fn():\n",
    "        fn_result = fn()\n",
    "        return fn_result\n",
    "    return inner_fn"
   ]
  },
  {
   "cell_type": "code",
   "execution_count": 5,
   "metadata": {},
   "outputs": [],
   "source": [
    "def print_hello_world():\n",
    "    print(\"Hello World!\")"
   ]
  },
  {
   "cell_type": "code",
   "execution_count": 6,
   "metadata": {},
   "outputs": [],
   "source": [
    "decorated_print_hello_world = outer_fn(print_hello_world)"
   ]
  },
  {
   "cell_type": "code",
   "execution_count": 7,
   "metadata": {},
   "outputs": [
    {
     "name": "stdout",
     "output_type": "stream",
     "text": [
      "Hello World!\n"
     ]
    }
   ],
   "source": [
    "decorated_print_hello_world()"
   ]
  },
  {
   "cell_type": "code",
   "execution_count": 8,
   "metadata": {},
   "outputs": [],
   "source": [
    "def decorator(fn):\n",
    "    print(\"Start decorator function from: \", fn.__name__)\n",
    "    def wrapper(*args, **kwargs):\n",
    "        print(\"Start wrapper function from: \", fn.__name__)\n",
    "        fn_result = fn(*args, **kwargs)\n",
    "        print(\"End wrapper function from: \", fn.__name__)\n",
    "        return fn_result\n",
    "    print(\"End decorator function from: \", fn.__name__)\n",
    "    return wrapper"
   ]
  },
  {
   "cell_type": "code",
   "execution_count": 9,
   "metadata": {},
   "outputs": [
    {
     "name": "stdout",
     "output_type": "stream",
     "text": [
      "Start decorator function from:  print_hello_world\n",
      "End decorator function from:  print_hello_world\n"
     ]
    }
   ],
   "source": [
    "decorated_print_hello_world2 = decorator(print_hello_world)"
   ]
  },
  {
   "cell_type": "code",
   "execution_count": 10,
   "metadata": {},
   "outputs": [
    {
     "name": "stdout",
     "output_type": "stream",
     "text": [
      "Start wrapper function from:  print_hello_world\n",
      "Hello World!\n",
      "End wrapper function from:  print_hello_world\n"
     ]
    }
   ],
   "source": [
    "decorated_print_hello_world2()"
   ]
  },
  {
   "cell_type": "code",
   "execution_count": 11,
   "metadata": {},
   "outputs": [],
   "source": [
    "def print_arguments(a, b, c=None):\n",
    "    print(f\"A: {a}, B: {b}, C: {c}\")"
   ]
  },
  {
   "cell_type": "code",
   "execution_count": 12,
   "metadata": {},
   "outputs": [
    {
     "name": "stdout",
     "output_type": "stream",
     "text": [
      "Start decorator function from:  print_arguments\n",
      "End decorator function from:  print_arguments\n"
     ]
    }
   ],
   "source": [
    "decorated_print_arguments = decorator(print_arguments)"
   ]
  },
  {
   "cell_type": "code",
   "execution_count": 13,
   "metadata": {},
   "outputs": [
    {
     "name": "stdout",
     "output_type": "stream",
     "text": [
      "Start wrapper function from:  print_arguments\n",
      "A: 1, B: 2, C: 3\n",
      "End wrapper function from:  print_arguments\n"
     ]
    }
   ],
   "source": [
    "decorated_print_arguments(a=1, b=2, c=3)"
   ]
  },
  {
   "cell_type": "code",
   "execution_count": 14,
   "metadata": {},
   "outputs": [
    {
     "name": "stdout",
     "output_type": "stream",
     "text": [
      "Start decorator function from:  print_arguments2\n",
      "End decorator function from:  print_arguments2\n"
     ]
    }
   ],
   "source": [
    "# @DecoratorFunctionName\n",
    "@decorator\n",
    "def print_arguments2(a, b, c=None):\n",
    "    print(f\"A: {a}, B: {b}, C: {c}\")"
   ]
  },
  {
   "cell_type": "code",
   "execution_count": 15,
   "metadata": {},
   "outputs": [
    {
     "name": "stdout",
     "output_type": "stream",
     "text": [
      "Start wrapper function from:  print_arguments2\n",
      "A: 2, B: 3, C: 4\n",
      "End wrapper function from:  print_arguments2\n"
     ]
    }
   ],
   "source": [
    "print_arguments2(a=2, b=3, c=4)"
   ]
  },
  {
   "cell_type": "code",
   "execution_count": null,
   "metadata": {},
   "outputs": [],
   "source": []
  }
 ],
 "metadata": {
  "file_extension": ".py",
  "kernelspec": {
   "display_name": "Python 3.10.4 ('advancedPython')",
   "language": "python",
   "name": "python3"
  },
  "language_info": {
   "codemirror_mode": {
    "name": "ipython",
    "version": 3
   },
   "file_extension": ".py",
   "mimetype": "text/x-python",
   "name": "python",
   "nbconvert_exporter": "python",
   "pygments_lexer": "ipython3",
   "version": "3.10.4"
  },
  "mimetype": "text/x-python",
  "name": "python",
  "npconvert_exporter": "python",
  "orig_nbformat": 2,
  "pygments_lexer": "ipython3",
  "version": 3,
  "vscode": {
   "interpreter": {
    "hash": "f7d2556a746455b9fa413583c01f8b35be58667110831f6876b0a85e9c63a884"
   }
  }
 },
 "nbformat": 4,
 "nbformat_minor": 2
}
