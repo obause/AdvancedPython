{
 "cells": [
  {
   "cell_type": "code",
   "execution_count": 1,
   "metadata": {},
   "outputs": [],
   "source": [
    "from math import sqrt\n",
    "from functools import total_ordering"
   ]
  },
  {
   "cell_type": "code",
   "execution_count": 13,
   "metadata": {},
   "outputs": [],
   "source": [
    "@total_ordering\n",
    "class Vector2d:\n",
    "    def __init__(self, x=0.0, y=0.0) -> None:\n",
    "        self.x = x\n",
    "        self.y = y\n",
    "        \n",
    "    def __call__(self):\n",
    "        print(\"Calling the __call__ method\")\n",
    "        \n",
    "    def __repr__(self) -> str:\n",
    "        return f'Vector2d({self.x}, {self.y})'\n",
    "    \n",
    "    def __str__(self) -> str:\n",
    "        return f'({self.x}, {self.y})'\n",
    "    \n",
    "    def __abs__(self) -> float:\n",
    "        return sqrt(self.x**2 + self.y**2)\n",
    "    \n",
    "    def __equal__(self, other) -> bool:\n",
    "        return self.x == other.x and self.y == other.y\n",
    "    \n",
    "    def __lt__(self, other) -> bool:\n",
    "        return abs(self) < abs(other)\n",
    "    \n",
    "    def __add__(self, other):\n",
    "        return Vector2d(self.x + other.x, self.y + other.y)\n",
    "    \n",
    "    def __sub__(self, other):\n",
    "        return Vector2d(self.x - other.x, self.y - other.y)\n",
    "    \n",
    "    def __mul__(self, other):\n",
    "        if isinstance(other, Vector2d):\n",
    "            return self.x * other.x + self.y * other.y\n",
    "        return Vector2d(self.x * other, self.y * other)\n",
    "    \n",
    "    def __truediv__(self, other):\n",
    "        return Vector2d(self.x / other, self.y / other)\n",
    "    \n",
    "    "
   ]
  },
  {
   "cell_type": "code",
   "execution_count": 14,
   "metadata": {},
   "outputs": [],
   "source": [
    "v1 = Vector2d(3, 4)\n",
    "v2 = Vector2d(3.1, 4.2)"
   ]
  },
  {
   "cell_type": "code",
   "execution_count": 15,
   "metadata": {},
   "outputs": [
    {
     "name": "stdout",
     "output_type": "stream",
     "text": [
      "Vector2d(3, 4)\n",
      "(3, 4)\n",
      "Vector2d(3.1, 4.2)\n",
      "(3.1, 4.2)\n"
     ]
    }
   ],
   "source": [
    "print(repr(v1))\n",
    "print(str(v1))\n",
    "\n",
    "print(repr(v2))\n",
    "print(str(v2))"
   ]
  },
  {
   "cell_type": "code",
   "execution_count": 17,
   "metadata": {},
   "outputs": [
    {
     "name": "stdout",
     "output_type": "stream",
     "text": [
      "(6.1, 8.2)\n",
      "(-0.10000000000000009, -0.20000000000000018)\n",
      "26.1\n",
      "(0.6, 0.8)\n"
     ]
    }
   ],
   "source": [
    "print(v1 + v2)\n",
    "print(v1 - v2)\n",
    "print(v1 * v2)\n",
    "print(v1 / 5.0)"
   ]
  },
  {
   "cell_type": "code",
   "execution_count": 20,
   "metadata": {},
   "outputs": [
    {
     "name": "stdout",
     "output_type": "stream",
     "text": [
      "True\n",
      "False\n",
      "False\n",
      "True\n"
     ]
    }
   ],
   "source": [
    "print(v1 < v2)\n",
    "print(v1 > v2)\n",
    "print(v1 == v2)\n",
    "print(v1 != v2)"
   ]
  },
  {
   "cell_type": "code",
   "execution_count": null,
   "metadata": {},
   "outputs": [],
   "source": []
  }
 ],
 "metadata": {
  "kernelspec": {
   "display_name": "Python 3.10.4 ('advancedPython')",
   "language": "python",
   "name": "python3"
  },
  "language_info": {
   "codemirror_mode": {
    "name": "ipython",
    "version": 3
   },
   "file_extension": ".py",
   "mimetype": "text/x-python",
   "name": "python",
   "nbconvert_exporter": "python",
   "pygments_lexer": "ipython3",
   "version": "3.10.4"
  },
  "orig_nbformat": 4,
  "vscode": {
   "interpreter": {
    "hash": "f7d2556a746455b9fa413583c01f8b35be58667110831f6876b0a85e9c63a884"
   }
  }
 },
 "nbformat": 4,
 "nbformat_minor": 2
}
