{
 "cells": [
  {
   "cell_type": "markdown",
   "metadata": {},
   "source": [
    "### Init vs New"
   ]
  },
  {
   "cell_type": "markdown",
   "metadata": {},
   "source": [
    "If __new__ return instance of  it’s own class, then the __init__ method of newly created instance will be invoked.  \n",
    " So, __init__ will called implicitly."
   ]
  },
  {
   "cell_type": "code",
   "execution_count": 1,
   "metadata": {},
   "outputs": [],
   "source": [
    "class Data:\n",
    "    def __new__(cls, name):\n",
    "        print(f'Creating a new {cls.__name__} obj')\n",
    "        obj = object.__new__(cls)\n",
    "        return obj\n",
    "\n",
    "    def __init__(self, name):\n",
    "        print(f\"Initializing a new {self.__class__.__name__} obj\")\n",
    "        self.name = name\n"
   ]
  },
  {
   "cell_type": "code",
   "execution_count": 2,
   "metadata": {},
   "outputs": [
    {
     "name": "stdout",
     "output_type": "stream",
     "text": [
      "Creating a new Data obj\n",
      "Initializing a new Data obj\n"
     ]
    }
   ],
   "source": [
    "u = Data(\"Jan\")"
   ]
  },
  {
   "cell_type": "code",
   "execution_count": 3,
   "metadata": {},
   "outputs": [],
   "source": [
    "class Singleton(object):\n",
    "    _instance = None  # Keep instance reference \n",
    "\n",
    "    def __new__(cls, *args, **kwargs):\n",
    "        if not cls._instance:\n",
    "            cls._instance = object.__new__(cls, *args, **kwargs)\n",
    "        else:\n",
    "            print(\"Object already created!\")\n",
    "        return cls._instance"
   ]
  },
  {
   "cell_type": "code",
   "execution_count": 4,
   "metadata": {},
   "outputs": [
    {
     "name": "stdout",
     "output_type": "stream",
     "text": [
      "2552898264592\n"
     ]
    }
   ],
   "source": [
    "s = Singleton()\n",
    "\n",
    "print(id(s))"
   ]
  },
  {
   "cell_type": "code",
   "execution_count": 5,
   "metadata": {},
   "outputs": [
    {
     "name": "stdout",
     "output_type": "stream",
     "text": [
      "Object already created!\n",
      "2552898264592\n"
     ]
    }
   ],
   "source": [
    "s = Singleton()\n",
    "\n",
    "print(id(s))"
   ]
  }
 ],
 "metadata": {
  "interpreter": {
   "hash": "ef4ce19910938c421491e84375c43d450a079a1a865d40a0bc82f335363ab876"
  },
  "kernelspec": {
   "display_name": "Python 3.10.4 ('pyUdemy')",
   "language": "python",
   "name": "python3"
  },
  "language_info": {
   "codemirror_mode": {
    "name": "ipython",
    "version": 3
   },
   "file_extension": ".py",
   "mimetype": "text/x-python",
   "name": "python",
   "nbconvert_exporter": "python",
   "pygments_lexer": "ipython3",
   "version": "3.10.4"
  },
  "orig_nbformat": 4
 },
 "nbformat": 4,
 "nbformat_minor": 2
}
